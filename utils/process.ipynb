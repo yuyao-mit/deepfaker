{
 "cells": [
  {
   "cell_type": "code",
   "execution_count": 1,
   "id": "25d13823-c3b3-451d-a7ae-7ab5d47ecfe5",
   "metadata": {},
   "outputs": [],
   "source": [
    "from dataloader import Data"
   ]
  },
  {
   "cell_type": "code",
   "execution_count": 3,
   "id": "505fd8a7-5ba6-4d0e-a04e-dc82a2091a6f",
   "metadata": {},
   "outputs": [
    {
     "name": "stdout",
     "output_type": "stream",
     "text": [
      "Saved 800.png\n",
      "Saved 400.png\n",
      "Saved 200.png\n",
      "Saved 100.png\n"
     ]
    }
   ],
   "source": [
    "import torch\n",
    "import torchvision.transforms as transforms\n",
    "from PIL import Image\n",
    "\n",
    "# 加载图片\n",
    "image_path = 'RAW_IMAGE.png'\n",
    "image = Image.open(image_path)\n",
    "\n",
    "# 将图片转换为Tensor\n",
    "transform = transforms.ToTensor()\n",
    "image_tensor = transform(image)\n",
    "\n",
    "# 裁剪图片，去掉底部的100*1600像素\n",
    "cropped_image_tensor = image_tensor[:, :1600, :]\n",
    "\n",
    "# 定义MaxPool层\n",
    "maxpool = torch.nn.MaxPool2d(kernel_size=2, stride=2)\n",
    "\n",
    "# 池化图片并保存\n",
    "sizes = [800, 400, 200, 100]\n",
    "for size in sizes:\n",
    "    # 计算池化次数\n",
    "    num_pools = int(torch.log2(torch.tensor(1600 / size)))\n",
    "    \n",
    "    # 池化\n",
    "    pooled_image_tensor = cropped_image_tensor\n",
    "    for _ in range(num_pools):\n",
    "        pooled_image_tensor = maxpool(pooled_image_tensor)\n",
    "    \n",
    "    # 将Tensor转换回PIL图像\n",
    "    pooled_image = transforms.ToPILImage()(pooled_image_tensor)\n",
    "    \n",
    "    # 保存图像\n",
    "    output_path = f'{size}.png'\n",
    "    pooled_image.save(output_path)\n",
    "    print(f'Saved {output_path}')"
   ]
  },
  {
   "cell_type": "code",
   "execution_count": null,
   "id": "8750fe55-a876-4338-a9a8-76cc5f5ee2e6",
   "metadata": {},
   "outputs": [],
   "source": []
  }
 ],
 "metadata": {
  "kernelspec": {
   "display_name": "Python 3 (ipykernel)",
   "language": "python",
   "name": "python3"
  },
  "language_info": {
   "codemirror_mode": {
    "name": "ipython",
    "version": 3
   },
   "file_extension": ".py",
   "mimetype": "text/x-python",
   "name": "python",
   "nbconvert_exporter": "python",
   "pygments_lexer": "ipython3",
   "version": "3.10.14"
  }
 },
 "nbformat": 4,
 "nbformat_minor": 5
}
